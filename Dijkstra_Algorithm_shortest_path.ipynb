{
  "nbformat": 4,
  "nbformat_minor": 0,
  "metadata": {
    "colab": {
      "provenance": [],
      "authorship_tag": "ABX9TyNjnzV6GxNKxm5/JmMMpaP0",
      "include_colab_link": true
    },
    "kernelspec": {
      "name": "python3",
      "display_name": "Python 3"
    },
    "language_info": {
      "name": "python"
    }
  },
  "cells": [
    {
      "cell_type": "markdown",
      "metadata": {
        "id": "view-in-github",
        "colab_type": "text"
      },
      "source": [
        "<a href=\"https://colab.research.google.com/github/hsabaghpour/Graph_Theory/blob/main/Dijkstra_Algorithm_shortest_path.ipynb\" target=\"_parent\"><img src=\"https://colab.research.google.com/assets/colab-badge.svg\" alt=\"Open In Colab\"/></a>"
      ]
    },
    {
      "cell_type": "markdown",
      "source": [
        "**Dijkstra’s Algorithm**\n",
        "\n",
        "Dijkstra’s algorithm is used to find the shortest path between nodes in a graph. It works only with graphs that have non-negative weights.\n",
        "\n",
        "Dijkstra’s Algorithm Overview:\n",
        "\n",
        "\t•\tIt maintains a set of vertices for which the shortest path has been found.\n",
        "\t•\tInitially, it assumes that the shortest path from the start node to every other node is infinity.\n",
        "\t•\tIt relaxes the edges and keeps updating the distances of vertices from the source.\n"
      ],
      "metadata": {
        "id": "rdnL1D1-SzaD"
      }
    },
    {
      "cell_type": "code",
      "execution_count": 3,
      "metadata": {
        "colab": {
          "base_uri": "https://localhost:8080/"
        },
        "id": "-FIOLr0gSslT",
        "outputId": "e82799dd-7e20-4a89-d4f1-c1a954264ed2"
      },
      "outputs": [
        {
          "output_type": "stream",
          "name": "stdout",
          "text": [
            "Shortest distances from A: {'A': 0, 'B': 1, 'C': 3, 'D': 4}\n"
          ]
        }
      ],
      "source": [
        "import heapq\n",
        "\n",
        "def dijkstra(graph, start):\n",
        "    # Priority queue to store the nodes to visit\n",
        "    priority_queue = [(0, start)]  # (distance, node)\n",
        "    shortest_distances = {node: float('infinity') for node in graph}\n",
        "    shortest_distances[start] = 0\n",
        "    visited = set()\n",
        "\n",
        "    while priority_queue:\n",
        "        current_distance, current_node = heapq.heappop(priority_queue)\n",
        "\n",
        "        # If we already visited this node, continue\n",
        "        if current_node in visited:\n",
        "            continue\n",
        "\n",
        "        visited.add(current_node)\n",
        "\n",
        "        for neighbor, weight in graph[current_node].items():\n",
        "            distance = current_distance + weight\n",
        "\n",
        "            # Only consider this path if it's better\n",
        "            if distance < shortest_distances[neighbor]:\n",
        "                shortest_distances[neighbor] = distance\n",
        "                heapq.heappush(priority_queue, (distance, neighbor))\n",
        "\n",
        "    return shortest_distances\n",
        "\n",
        "# Example graph as an adjacency list with weights\n",
        "graph = {\n",
        "    'A': {'B': 1, 'C': 4},\n",
        "    'B': {'A': 1, 'C': 2, 'D': 5},\n",
        "    'C': {'A': 4, 'B': 2, 'D': 1},\n",
        "    'D': {'B': 5, 'C': 1}\n",
        "}\n",
        "\n",
        "start_node = 'A'\n",
        "distances = dijkstra(graph, start_node)\n",
        "print(f\"Shortest distances from {start_node}: {distances}\")"
      ]
    }
  ]
}