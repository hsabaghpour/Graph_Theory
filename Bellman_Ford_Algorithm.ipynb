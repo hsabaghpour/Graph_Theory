{
  "nbformat": 4,
  "nbformat_minor": 0,
  "metadata": {
    "colab": {
      "provenance": [],
      "authorship_tag": "ABX9TyNkdISpM42dGOaJ1YnPfiyy",
      "include_colab_link": true
    },
    "kernelspec": {
      "name": "python3",
      "display_name": "Python 3"
    },
    "language_info": {
      "name": "python"
    }
  },
  "cells": [
    {
      "cell_type": "markdown",
      "metadata": {
        "id": "view-in-github",
        "colab_type": "text"
      },
      "source": [
        "<a href=\"https://colab.research.google.com/github/hsabaghpour/Graph_Theory/blob/main/Bellman_Ford_Algorithm.ipynb\" target=\"_parent\"><img src=\"https://colab.research.google.com/assets/colab-badge.svg\" alt=\"Open In Colab\"/></a>"
      ]
    },
    {
      "cell_type": "code",
      "execution_count": null,
      "metadata": {
        "id": "gPezXQ_zTz6Y"
      },
      "outputs": [],
      "source": []
    },
    {
      "cell_type": "markdown",
      "source": [
        "**Bellman-Ford Algorithm**\n",
        "\n",
        "Bellman-Ford algorithm is more versatile and can handle graphs with negative weight edges. It works by repeatedly relaxing all the edges of the graph.\n",
        "\n",
        "Bellman-Ford Algorithm Overview:\n",
        "\n",
        "\t•\tIt initializes the distance to the source node as 0 and all others as infinity.\n",
        "\t•\tThen, it repeatedly relaxes all the edges, doing this for each node minus one times.\n",
        "\t•\tThe algorithm also detects negative weight cycles."
      ],
      "metadata": {
        "id": "Nkiny1sNT1gS"
      }
    },
    {
      "cell_type": "code",
      "source": [
        "def bellman_ford(graph, start):\n",
        "    # Initialize distances from the start to all other nodes as infinity\n",
        "    distances = {node: float('infinity') for node in graph}\n",
        "    distances[start] = 0\n",
        "\n",
        "    # Relax edges repeatedly\n",
        "    for _ in range(len(graph) - 1):\n",
        "        for node in graph:\n",
        "            for neighbor, weight in graph[node].items():\n",
        "                if distances[node] != float('infinity') and distances[node] + weight < distances[neighbor]:\n",
        "                    distances[neighbor] = distances[node] + weight\n",
        "\n",
        "    # Check for negative weight cycles\n",
        "    for node in graph:\n",
        "        for neighbor, weight in graph[node].items():\n",
        "            if distances[node] + weight < distances[neighbor]:\n",
        "                print(\"Graph contains a negative-weight cycle\")\n",
        "                return None\n",
        "\n",
        "    return distances\n",
        "\n",
        "# Example graph with some negative weights\n",
        "graph_with_negatives = {\n",
        "    'A': {'B': 1, 'C': 4},\n",
        "    'B': {'A': 1, 'C': 2, 'D': 5},\n",
        "    'C': {'A': 4, 'B': 2, 'D': -7},\n",
        "    'D': {'B': 5, 'C': -7}\n",
        "}\n",
        "\n",
        "start_node = 'A'\n",
        "distances_bf = bellman_ford(graph_with_negatives, start_node)\n",
        "print(f\"Shortest distances from {start_node}: {distances_bf}\")"
      ],
      "metadata": {
        "colab": {
          "base_uri": "https://localhost:8080/"
        },
        "id": "-V6-pqwVUAGU",
        "outputId": "d332875a-6855-4660-c006-b9646dd54c3e"
      },
      "execution_count": 1,
      "outputs": [
        {
          "output_type": "stream",
          "name": "stdout",
          "text": [
            "Graph contains a negative-weight cycle\n",
            "Shortest distances from A: None\n"
          ]
        }
      ]
    }
  ]
}