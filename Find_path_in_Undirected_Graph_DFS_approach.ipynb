{
  "nbformat": 4,
  "nbformat_minor": 0,
  "metadata": {
    "colab": {
      "provenance": [],
      "authorship_tag": "ABX9TyMgOWtoZYlf80B0luCJtb94",
      "include_colab_link": true
    },
    "kernelspec": {
      "name": "python3",
      "display_name": "Python 3"
    },
    "language_info": {
      "name": "python"
    }
  },
  "cells": [
    {
      "cell_type": "markdown",
      "metadata": {
        "id": "view-in-github",
        "colab_type": "text"
      },
      "source": [
        "<a href=\"https://colab.research.google.com/github/hsabaghpour/Graph_Theory/blob/main/Find_path_in_Undirected_Graph_DFS_approach.ipynb\" target=\"_parent\"><img src=\"https://colab.research.google.com/assets/colab-badge.svg\" alt=\"Open In Colab\"/></a>"
      ]
    },
    {
      "cell_type": "code",
      "execution_count": 39,
      "metadata": {
        "id": "cdt3Xc_KjmRs"
      },
      "outputs": [],
      "source": [
        "\n",
        "\n",
        "def undirectedPath(edges, nodeA, nodeB):\n",
        "  graph = buildGraph(edges)\n",
        "\n",
        "  # Let'us DFS:\n",
        "\n",
        "  return hasPath(graph, nodeA, nodeB,set())\n",
        "\n",
        "def hasPath(graph, src, dst,visited):\n",
        "  if src == dst:\n",
        "    return True\n",
        "\n",
        "\n",
        "  if visited.contains(src):\n",
        "    return False\n",
        "\n",
        "  visited.add(src)\n",
        "\n",
        "  for neighbor in graph[src]:\n",
        "    if hasPath(graph, neighbor, dst,visited) == True:\n",
        "      return True\n",
        "  return False\n",
        "\n",
        "\n",
        "\n",
        "\n",
        "\n",
        "def buildGraph(edges):  # Helper func\n",
        "  graph = {}\n",
        "\n",
        "  for edge in edges:\n",
        "    a, b = edge\n",
        "    if a not in graph:\n",
        "      graph[a] = []\n",
        "    if b not in graph:\n",
        "      graph[b] = []\n",
        "    graph[a].append(b)\n",
        "    graph[b].append(a)\n",
        "  return graph\n",
        "\n",
        "\n"
      ]
    },
    {
      "cell_type": "code",
      "source": [
        "def undirectedPath(edges, nodeA, nodeB):\n",
        "    graph = buildGraph(edges)\n",
        "\n",
        "    # Let's perform DFS:\n",
        "    return hasPath(graph, nodeA, nodeB, set())\n",
        "\n",
        "def hasPath(graph, src, dst, visited):\n",
        "    if src == dst:\n",
        "        return True\n",
        "\n",
        "    if src in visited:  # Corrected from visited.contains(src)\n",
        "        return False\n",
        "\n",
        "    visited.add(src)\n",
        "\n",
        "    for neighbor in graph[src]:\n",
        "        if hasPath(graph, neighbor, dst, visited):\n",
        "            return True\n",
        "\n",
        "    return False\n",
        "\n",
        "def buildGraph(edges):  # Helper function to create graph\n",
        "    graph = {}\n",
        "\n",
        "    for edge in edges:\n",
        "        a, b = edge\n",
        "        if a not in graph:\n",
        "            graph[a] = []\n",
        "        if b not in graph:\n",
        "            graph[b] = []\n",
        "        graph[a].append(b)\n",
        "        graph[b].append(a)\n",
        "\n",
        "    return graph"
      ],
      "metadata": {
        "id": "4obKOz8AppiV"
      },
      "execution_count": 42,
      "outputs": []
    },
    {
      "cell_type": "code",
      "source": [
        "edges = [\n",
        "    ['i', 'j'],\n",
        "    ['k', 'i'],\n",
        "    ['m', 'k'],\n",
        "    ['k', 'l'],\n",
        "    ['o', 'n']\n",
        "]\n",
        "\n",
        "print(undirectedPath(edges, 'j', 'm'))  # Output: True\n",
        "print(undirectedPath(edges, 'j', 'o'))  # Output: False"
      ],
      "metadata": {
        "colab": {
          "base_uri": "https://localhost:8080/"
        },
        "id": "YrQdGMd_kZJv",
        "outputId": "ef331ae6-f184-4885-feb6-4f56d2abd727"
      },
      "execution_count": 44,
      "outputs": [
        {
          "output_type": "stream",
          "name": "stdout",
          "text": [
            "True\n",
            "False\n"
          ]
        }
      ]
    }
  ]
}