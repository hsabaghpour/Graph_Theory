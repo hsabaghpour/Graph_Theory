{
  "nbformat": 4,
  "nbformat_minor": 0,
  "metadata": {
    "colab": {
      "provenance": [],
      "authorship_tag": "ABX9TyM1kFIu4y+Y8i04m5uQcs8p",
      "include_colab_link": true
    },
    "kernelspec": {
      "name": "python3",
      "display_name": "Python 3"
    },
    "language_info": {
      "name": "python"
    }
  },
  "cells": [
    {
      "cell_type": "markdown",
      "metadata": {
        "id": "view-in-github",
        "colab_type": "text"
      },
      "source": [
        "<a href=\"https://colab.research.google.com/github/hsabaghpour/Graph_Theory/blob/main/Count_connected_components_in_a_graphh.ipynb\" target=\"_parent\"><img src=\"https://colab.research.google.com/assets/colab-badge.svg\" alt=\"Open In Colab\"/></a>"
      ]
    },
    {
      "cell_type": "code",
      "execution_count": 1,
      "metadata": {
        "id": "74mucQCydNTm"
      },
      "outputs": [],
      "source": [
        "def connectedComponentsCount_1(graph):\n",
        "    count = 0\n",
        "    visited = set()\n",
        "    for node in graph:\n",
        "        if node not in visited:\n",
        "            count += 1\n",
        "            queue = [node]\n",
        "            while queue:\n",
        "                current = queue.pop(0)\n",
        "                visited.add(current)\n",
        "                for neighbor in graph[current]:\n",
        "                    if neighbor not in visited:\n",
        "                        queue.append(neighbor)\n",
        "    return count"
      ]
    },
    {
      "cell_type": "code",
      "source": [
        "#let's test it with a graph\n",
        "\n",
        "graph = {\n",
        "    'A': ['B', 'C'],\n",
        "    'B': ['A', 'D'],\n",
        "    'C': ['A', 'E'],\n",
        "    'D': ['B'],\n",
        "    'E': ['C'],\n",
        "    'F': ['K'],\n",
        "    'K': ['F'],\n",
        "    'L': ['M'],\n",
        "    'M': ['L']\n",
        "}\n",
        "\n",
        "connectedComponentsCount_1(graph)\n"
      ],
      "metadata": {
        "colab": {
          "base_uri": "https://localhost:8080/"
        },
        "id": "c-vbHc9AgKQ7",
        "outputId": "2be2c315-3c4e-4719-fab8-99d16a7f4a4b"
      },
      "execution_count": 6,
      "outputs": [
        {
          "output_type": "execute_result",
          "data": {
            "text/plain": [
              "3"
            ]
          },
          "metadata": {},
          "execution_count": 6
        }
      ]
    },
    {
      "cell_type": "code",
      "source": [
        "def connectedComponentsCount_2(graph):\n",
        "  visited = set()\n",
        "  count = 0\n",
        "  for node in graph:\n",
        "    if explore(graph, node,visited):\n",
        "      count += 1\n",
        "  return count\n",
        "def explore(graph, current,visited):\n",
        "  #DFS\n",
        "  if current in visited:\n",
        "    return False\n",
        "  visited.add(current)\n",
        "  for neighbor in graph[current]:\n",
        "    explore(graph, neighbor,visited)\n",
        "  return True"
      ],
      "metadata": {
        "id": "d2KM-DbJgRLu"
      },
      "execution_count": 13,
      "outputs": []
    },
    {
      "cell_type": "code",
      "source": [
        "#let's test it with a graph\n",
        "\n",
        "graph = {\n",
        "    'A': ['B', 'C'],\n",
        "    'B': ['A', 'D'],\n",
        "    'C': ['A', 'E'],\n",
        "    'D': ['B'],\n",
        "    'E': ['C'],\n",
        "    'F': ['K'],\n",
        "    'K': ['F'],\n",
        "    'L': ['M'],\n",
        "    'M': ['L']\n",
        "}\n",
        "\n",
        "connectedComponentsCount_2(graph)\n"
      ],
      "metadata": {
        "colab": {
          "base_uri": "https://localhost:8080/"
        },
        "id": "c5HJt8sviTH-",
        "outputId": "3627ada6-9d6e-41b7-acbe-40b6dcaacaf4"
      },
      "execution_count": 14,
      "outputs": [
        {
          "output_type": "execute_result",
          "data": {
            "text/plain": [
              "3"
            ]
          },
          "metadata": {},
          "execution_count": 14
        }
      ]
    }
  ]
}