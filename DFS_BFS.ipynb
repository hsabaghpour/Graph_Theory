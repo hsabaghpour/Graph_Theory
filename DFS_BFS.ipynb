{
  "nbformat": 4,
  "nbformat_minor": 0,
  "metadata": {
    "colab": {
      "provenance": [],
      "authorship_tag": "ABX9TyPSq7JTKIbEaO56eC1dsSgM",
      "include_colab_link": true
    },
    "kernelspec": {
      "name": "python3",
      "display_name": "Python 3"
    },
    "language_info": {
      "name": "python"
    }
  },
  "cells": [
    {
      "cell_type": "markdown",
      "metadata": {
        "id": "view-in-github",
        "colab_type": "text"
      },
      "source": [
        "<a href=\"https://colab.research.google.com/github/hsabaghpour/Graph_Theory/blob/main/DFS_BFS.ipynb\" target=\"_parent\"><img src=\"https://colab.research.google.com/assets/colab-badge.svg\" alt=\"Open In Colab\"/></a>"
      ]
    },
    {
      "cell_type": "markdown",
      "source": [
        "Key Points:\n",
        "\n",
        "\t1.\tStack Initialization:\n",
        "\t•\tWe start by initializing a stack with the source node. The stack will help us control the order in which nodes are visited.\n",
        "\t2.\tIteration:\n",
        "\t•\tWe pop nodes from the stack (LIFO order), process them (print or mark as visited), and push their neighbors onto the stack.\n",
        "\t•\tReversed order: To maintain the DFS order (so it visits nodes in the same way as the recursive version), we push neighbors in reverse order. This is because a stack is a LIFO structure, so we want the leftmost neighbor to be processed first.\n",
        "\t3.\tVisited Set:\n",
        "\t•\tWe use a visited set to ensure we don’t process any node more than once (important for graphs with cycles).\n"
      ],
      "metadata": {
        "id": "7OQ02bkXd3D4"
      }
    },
    {
      "cell_type": "code",
      "source": [
        "# Depth-First Search using an explicit stack\n",
        "def depthFirstPrint(graph, source):\n",
        "    stack = [source]  # Initialize the stack with the source node\n",
        "    visited = set()   # Set to track visited nodes\n",
        "\n",
        "    while stack:  # Continue until the stack is empty\n",
        "        current = stack.pop()  # Pop the top node from the stack\n",
        "\n",
        "        if current not in visited:\n",
        "            print(current)  # Print or process the node\n",
        "            visited.add(current)  # Mark it as visited\n",
        "\n",
        "            # Push all the neighbors of the current node onto the stack\n",
        "            # Reverse the order to maintain DFS traversal\n",
        "            for neighbor in reversed(graph[current]):\n",
        "                if neighbor not in visited:\n",
        "                    stack.append(neighbor)\n",
        "\n",
        "# Example graph\n",
        "graph = {\n",
        "    'a': ['b', 'c'],\n",
        "    'b': ['d'],\n",
        "    'c': ['e'],\n",
        "    'd': ['f'],\n",
        "    'e': [],\n",
        "    'f': []\n",
        "}\n",
        "\n",
        "# Run DFS\n",
        "print(\"Depth-First Search using a Stack:\")\n",
        "depthFirstPrint(graph, 'a')  # Expected output: abdfce"
      ],
      "metadata": {
        "colab": {
          "base_uri": "https://localhost:8080/"
        },
        "id": "XujSkC7PdpAa",
        "outputId": "76b1152f-bdd8-478f-ceb7-9ed90f83bfce"
      },
      "execution_count": 8,
      "outputs": [
        {
          "output_type": "stream",
          "name": "stdout",
          "text": [
            "Depth-First Search using a Stack:\n",
            "a\n",
            "b\n",
            "d\n",
            "f\n",
            "c\n",
            "e\n"
          ]
        }
      ]
    },
    {
      "cell_type": "markdown",
      "source": [
        "Key Points:\n",
        "\n",
        "\t1.\tQueue Initialization:\n",
        "\t•\tWe initialize a queue (using deque from Python’s collections module for efficiency) and add the source node to it.\n",
        "\t•\tA visited set keeps track of nodes that have been visited, starting with the source node.\n",
        "\t2.\tIteration:\n",
        "\t•\tWe process nodes by removing (popping) them from the front of the queue, then exploring their neighbors.\n",
        "\t•\tAll unvisited neighbors are added to the back of the queue.\n",
        "\t3.\tFIFO Order:\n",
        "\t•\tNodes are processed in the order they are discovered, ensuring that nodes at the same level in the graph are processed before moving deeper into the graph.\n",
        "\t4.\tVisited Set:\n",
        "\t•\tA visited set ensures that each node is processed only once, preventing infinite loops in graphs with cycles.\n",
        "\n"
      ],
      "metadata": {
        "id": "RpcGw2kTd9KC"
      }
    },
    {
      "cell_type": "code",
      "source": [
        "from collections import deque\n",
        "\n",
        "# Breadth-First Search using a queue\n",
        "def breadthFirstPrint(graph, source):\n",
        "    queue = deque([source])  # Initialize the queue with the source node\n",
        "    visited = set()  # Set to track visited nodes\n",
        "    visited.add(source)  # Mark the source node as visited\n",
        "\n",
        "    while queue:\n",
        "        current = queue.popleft()  # Pop the front node from the queue\n",
        "        print(current)  # Print or process the current node\n",
        "\n",
        "        # Add all unvisited neighbors to the queue\n",
        "        for neighbor in graph[current]:\n",
        "            if neighbor not in visited:\n",
        "                visited.add(neighbor)  # Mark as visited\n",
        "                queue.append(neighbor)  # Enqueue the neighbor\n",
        "\n",
        "# Example graph\n",
        "graph = {\n",
        "    'a': ['b', 'c'],\n",
        "    'b': ['d'],\n",
        "    'c': ['e'],\n",
        "    'd': ['f'],\n",
        "    'e': [],\n",
        "    'f': []\n",
        "}\n",
        "\n",
        "# Run BFS\n",
        "print(\"Breadth-First Search using a Queue:\")\n",
        "breadthFirstPrint(graph, 'a')  # Expected output: acebdf"
      ],
      "metadata": {
        "colab": {
          "base_uri": "https://localhost:8080/"
        },
        "id": "WQZJP451drdh",
        "outputId": "0c1cc178-64fe-4ed1-9491-75a2f9801b56"
      },
      "execution_count": 10,
      "outputs": [
        {
          "output_type": "stream",
          "name": "stdout",
          "text": [
            "Breadth-First Search using a Queue:\n",
            "a\n",
            "b\n",
            "c\n",
            "d\n",
            "e\n",
            "f\n"
          ]
        }
      ]
    },
    {
      "cell_type": "code",
      "execution_count": 7,
      "metadata": {
        "colab": {
          "base_uri": "https://localhost:8080/"
        },
        "id": "dBLm1WzPaBHD",
        "outputId": "71319b9a-0950-4637-9bf9-61cb8e67d81c"
      },
      "outputs": [
        {
          "output_type": "stream",
          "name": "stdout",
          "text": [
            "a\n",
            "b\n",
            "d\n",
            "f\n",
            "c\n",
            "e\n",
            "a\n",
            "b\n",
            "c\n",
            "d\n",
            "e\n",
            "f\n"
          ]
        }
      ],
      "source": [
        "# impelemntation of depth first Travers Algorithm\n",
        "# Depth First Search\n",
        "\n",
        "# Time Complexity: O(V + E)\n",
        "#\n",
        "\n",
        "def depthFirstPrint(graph, source):\n",
        "  print(source)\n",
        "  for child in graph[source]:\n",
        "    depthFirstPrint(graph, child)\n",
        "\n",
        "def breadthFirstPrint(graph, source):\n",
        "  queue = [source]\n",
        "  while len(queue) > 0:\n",
        "    current = queue.pop(0)\n",
        "    print(current)\n",
        "    for child in graph[current]:\n",
        "      queue.append(child)\n",
        "graph = {\n",
        "  'a' : ['b','c'],\n",
        "  'b' : ['d'],\n",
        "  'c' : ['e'],\n",
        "  'd' : ['f'],\n",
        "  'e' : [],\n",
        "  'f' : []\n",
        "}\n",
        "depthFirstPrint(graph, 'a'); # //abdfce\n",
        "breadthFirstPrint(graph, 'a'); #//acbedf\n",
        "\n"
      ]
    },
    {
      "cell_type": "code",
      "source": [
        "from collections import deque\n",
        "\n",
        "# Depth-First Search (DFS)\n",
        "def depthFirstPrint(graph, source, visited=None):\n",
        "    if visited is None:\n",
        "        visited = set()  # Initialize visited set\n",
        "    if source in visited:\n",
        "        return  # Avoid revisiting nodes\n",
        "    print(source)\n",
        "    visited.add(source)  # Mark the node as visited\n",
        "    for neighbor in graph[source]:\n",
        "        depthFirstPrint(graph, neighbor, visited)\n",
        "\n",
        "# Breadth-First Search (BFS)\n",
        "def breadthFirstPrint(graph, source):\n",
        "    visited = set()  # Track visited nodes to avoid cycles\n",
        "    queue = deque([source])  # Use deque for efficient pop from the front\n",
        "    visited.add(source)  # Mark the source as visited\n",
        "\n",
        "    while queue:\n",
        "        current = queue.popleft()  # Pop from the front of the deque (O(1))\n",
        "        print(current)\n",
        "        for neighbor in graph[current]:\n",
        "            if neighbor not in visited:  # Only add unvisited nodes\n",
        "                visited.add(neighbor)\n",
        "                queue.append(neighbor)\n",
        "\n",
        "# Example graph\n",
        "graph = {\n",
        "    'a': ['b', 'c'],\n",
        "    'b': ['d'],\n",
        "    'c': ['e'],\n",
        "    'd': ['f'],\n",
        "    'e': [],\n",
        "    'f': []\n",
        "}\n",
        "\n",
        "# Run DFS\n",
        "print(\"Depth-First Search:\")\n",
        "depthFirstPrint(graph, 'a')  # Expected output: abdfce\n",
        "print('\\n')\n",
        "\n",
        "# Run BFS\n",
        "print(\"Breadth-First Search:\")\n",
        "breadthFirstPrint(graph, 'a')  # Expected output: acebdf"
      ],
      "metadata": {
        "colab": {
          "base_uri": "https://localhost:8080/"
        },
        "id": "hidkuzL4cxh1",
        "outputId": "78d1ed0d-bd50-4ea0-b9b2-7ec5acc4128d"
      },
      "execution_count": 6,
      "outputs": [
        {
          "output_type": "stream",
          "name": "stdout",
          "text": [
            "Depth-First Search:\n",
            "a\n",
            "b\n",
            "d\n",
            "f\n",
            "c\n",
            "e\n",
            "\n",
            "\n",
            "Breadth-First Search:\n",
            "a\n",
            "b\n",
            "c\n",
            "d\n",
            "e\n",
            "f\n"
          ]
        }
      ]
    },
    {
      "cell_type": "code",
      "source": [
        "def depth_first_search(graph, start_node):\n",
        "    # Initialize the stack with the starting node\n",
        "    stack = [start_node]\n",
        "\n",
        "    # Initialize a set to track visited nodes (optional)\n",
        "    # visited = set()\n",
        "\n",
        "    # Continue while there are nodes to process in the stack\n",
        "    while stack:\n",
        "        # Pop the last node from the stack\n",
        "        node = stack.pop()\n",
        "\n",
        "        # Check if the node is already visited (optional)\n",
        "        # if node in visited:\n",
        "        #     continue\n",
        "\n",
        "        # Print or process the current node\n",
        "        print(node)\n",
        "\n",
        "        # Mark the node as visited (optional)\n",
        "        # visited.add(node)\n",
        "\n",
        "        # Add the node's neighbors to the stack\n",
        "        for neighbor in graph[node]:\n",
        "            stack.append(neighbor)\n",
        "\n",
        "# Graph representation using a dictionary\n",
        "graph = {\n",
        "    'a': ['c','b'],\n",
        "    'b': ['d'],\n",
        "    'c': ['e'],\n",
        "    'd': ['f'],\n",
        "    'e': [],\n",
        "    'f': [],\n",
        "}\n",
        "\n",
        "# Call the DFS function\n",
        "depth_first_search(graph, 'a')"
      ],
      "metadata": {
        "colab": {
          "base_uri": "https://localhost:8080/"
        },
        "id": "xLv_zwVWa51z",
        "outputId": "e60c6b0a-e8f9-41e5-e23d-a8c84633c16b"
      },
      "execution_count": 12,
      "outputs": [
        {
          "output_type": "stream",
          "name": "stdout",
          "text": [
            "a\n",
            "b\n",
            "d\n",
            "f\n",
            "c\n",
            "e\n"
          ]
        }
      ]
    },
    {
      "cell_type": "code",
      "source": [
        "def breadth_first_print(graph, start):\n",
        "    queue = [start]\n",
        "\n",
        "    while queue:\n",
        "        node = queue.pop(0)\n",
        "        print(node)\n",
        "\n",
        "        for neighbor in graph[node]:\n",
        "            queue.append(neighbor)\n",
        "\n",
        "# Graph representation in Python (similar to JavaScript object)\n",
        "graph = {\n",
        "    'a': ['b', 'c'],\n",
        "    'b': ['d'],\n",
        "    'c': ['e'],\n",
        "    'd': ['f'],\n",
        "    'e': [],\n",
        "    'f': []\n",
        "}\n",
        "\n",
        "# Call the function\n",
        "breadth_first_print(graph, 'a')"
      ],
      "metadata": {
        "id": "2YKmViaLs5kB"
      },
      "execution_count": null,
      "outputs": []
    }
  ]
}