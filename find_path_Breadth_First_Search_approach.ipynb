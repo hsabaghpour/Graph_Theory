{
  "nbformat": 4,
  "nbformat_minor": 0,
  "metadata": {
    "colab": {
      "provenance": [],
      "authorship_tag": "ABX9TyNirZxhE1yRx/CiwQfLO4aJ",
      "include_colab_link": true
    },
    "kernelspec": {
      "name": "python3",
      "display_name": "Python 3"
    },
    "language_info": {
      "name": "python"
    }
  },
  "cells": [
    {
      "cell_type": "markdown",
      "metadata": {
        "id": "view-in-github",
        "colab_type": "text"
      },
      "source": [
        "<a href=\"https://colab.research.google.com/github/hsabaghpour/Graph_Theory/blob/main/find_path_Breadth_First_Search_approach.ipynb\" target=\"_parent\"><img src=\"https://colab.research.google.com/assets/colab-badge.svg\" alt=\"Open In Colab\"/></a>"
      ]
    },
    {
      "cell_type": "code",
      "execution_count": 7,
      "metadata": {
        "id": "_QykmPKjeBR0"
      },
      "outputs": [],
      "source": [
        "def hasPath(graph, src, dst):\n",
        "\n",
        "  queue = [src]\n",
        "\n",
        "  while queue:\n",
        "\n",
        "    current = queue.pop(0)\n",
        "\n",
        "    if current == dst:\n",
        "      return True\n",
        "    for node in graph[current]:\n",
        "      queue.append(node)\n",
        "  return False"
      ]
    },
    {
      "cell_type": "code",
      "source": [
        "#let's test our function:\n",
        "\n",
        "\n",
        "graph = {\n",
        "\n",
        "         'a':['b','c'],\n",
        "         'b':['d'],\n",
        "         'c':['e'],\n",
        "         'd':['f'],\n",
        "         'e':[],\n",
        "         'f':[]\n",
        "}\n",
        "\n",
        "\n",
        "hasPath(graph, 'a', 'f') #should return True\n"
      ],
      "metadata": {
        "colab": {
          "base_uri": "https://localhost:8080/"
        },
        "id": "LG0ibt1ae3qR",
        "outputId": "0a313a45-8f26-4ef8-b4d8-7a37672adb6f"
      },
      "execution_count": 8,
      "outputs": [
        {
          "output_type": "execute_result",
          "data": {
            "text/plain": [
              "True"
            ]
          },
          "metadata": {},
          "execution_count": 8
        }
      ]
    },
    {
      "cell_type": "code",
      "source": [
        "hasPath(graph, 'f', 'a') #should return False\n"
      ],
      "metadata": {
        "colab": {
          "base_uri": "https://localhost:8080/"
        },
        "id": "H3mjenz6fPw-",
        "outputId": "ed7eb562-b9a5-4cd0-80be-d33743965d34"
      },
      "execution_count": 9,
      "outputs": [
        {
          "output_type": "execute_result",
          "data": {
            "text/plain": [
              "False"
            ]
          },
          "metadata": {},
          "execution_count": 9
        }
      ]
    }
  ]
}