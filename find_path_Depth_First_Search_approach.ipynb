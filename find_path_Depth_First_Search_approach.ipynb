{
  "nbformat": 4,
  "nbformat_minor": 0,
  "metadata": {
    "colab": {
      "provenance": [],
      "authorship_tag": "ABX9TyNP6ewe0rm3dOWoNKRD1gbt",
      "include_colab_link": true
    },
    "kernelspec": {
      "name": "python3",
      "display_name": "Python 3"
    },
    "language_info": {
      "name": "python"
    }
  },
  "cells": [
    {
      "cell_type": "markdown",
      "metadata": {
        "id": "view-in-github",
        "colab_type": "text"
      },
      "source": [
        "<a href=\"https://colab.research.google.com/github/hsabaghpour/Graph_Theory/blob/main/find_path_Depth_First_Search_approach.ipynb\" target=\"_parent\"><img src=\"https://colab.research.google.com/assets/colab-badge.svg\" alt=\"Open In Colab\"/></a>"
      ]
    },
    {
      "cell_type": "code",
      "execution_count": 6,
      "metadata": {
        "id": "GrsW9P-ebnZG"
      },
      "outputs": [],
      "source": [
        "# Return True if there is a path from source to destination in a directinal graph\n",
        "\n",
        "def hasPath(graph, src, dst):\n",
        "    if src == dst:\n",
        "        return True\n",
        "    for neighbor in graph[src]:\n",
        "        if hasPath(graph, neighbor, dst) == True:\n",
        "            return True\n",
        "    return False\n",
        "\n"
      ]
    },
    {
      "cell_type": "code",
      "source": [
        "#let's test our function:\n",
        "\n",
        "\n",
        "graph = {\n",
        "\n",
        "         'a':['b','c'],\n",
        "         'b':['d'],\n",
        "         'c':['e'],\n",
        "         'd':['f'],\n",
        "         'e':[],\n",
        "         'f':[]\n",
        "}\n",
        "\n",
        "\n",
        "hasPath(graph, 'a', 'f') #should return True\n"
      ],
      "metadata": {
        "colab": {
          "base_uri": "https://localhost:8080/"
        },
        "id": "TCfRJB_zcPdl",
        "outputId": "a8a051c1-da16-4207-8388-8d5f1c3456ea"
      },
      "execution_count": 4,
      "outputs": [
        {
          "output_type": "execute_result",
          "data": {
            "text/plain": [
              "True"
            ]
          },
          "metadata": {},
          "execution_count": 4
        }
      ]
    },
    {
      "cell_type": "code",
      "source": [
        "hasPath(graph, 'f', 'a') #should return False\n"
      ],
      "metadata": {
        "colab": {
          "base_uri": "https://localhost:8080/"
        },
        "id": "-nigNILBcvEr",
        "outputId": "cbc32975-1069-4dca-de1e-901ae012d719"
      },
      "execution_count": 5,
      "outputs": [
        {
          "output_type": "execute_result",
          "data": {
            "text/plain": [
              "False"
            ]
          },
          "metadata": {},
          "execution_count": 5
        }
      ]
    }
  ]
}